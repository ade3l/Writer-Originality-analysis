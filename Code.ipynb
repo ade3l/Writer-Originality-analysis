{
 "cells": [
  {
   "cell_type": "code",
   "execution_count": 224,
   "id": "82fa2c2c",
   "metadata": {},
   "outputs": [],
   "source": [
    "import requests\n",
    "from bs4 import BeautifulSoup\n",
    "from selenium import webdriver\n",
    "from selenium.webdriver.common.keys import Keys\n",
    "import time\n",
    "from webdriver_manager.chrome import ChromeDriverManager"
   ]
  },
  {
   "cell_type": "code",
   "execution_count": 225,
   "id": "b41fbd29",
   "metadata": {},
   "outputs": [],
   "source": [
    "url = r'https://natgeotraveller.in/author/lakshmi-sankaran/'\n",
    "driver = webdriver.Chrome(ChromeDriverManager().install())"
   ]
  },
  {
   "cell_type": "code",
   "execution_count": 226,
   "id": "5b13edd1",
   "metadata": {},
   "outputs": [],
   "source": [
    "driver.get(url) "
   ]
  },
  {
   "cell_type": "code",
   "execution_count": 229,
   "id": "b4d55ac4",
   "metadata": {},
   "outputs": [],
   "source": [
    "soup = BeautifulSoup(driver.page_source,'html.parser')\n",
    "all_posts_div = soup.find(id='articlePostByAuthor')\n",
    "posts_elements = all_posts_div.find_all(\"div\", {\"class\": \"similar-article-box\"})"
   ]
  },
  {
   "cell_type": "code",
   "execution_count": 231,
   "id": "d80066a5",
   "metadata": {},
   "outputs": [
    {
     "name": "stdout",
     "output_type": "stream",
     "text": [
      "29\n"
     ]
    },
    {
     "data": {
      "text/plain": [
       "['http://natgeotraveller.in/latest-in-travel-flights-from-pune-to-singapore-quarantine-free-travel-to-taiwan-and-more/',\n",
       " 'http://natgeotraveller.in/latest-in-travel-schengen-digital-visa-for-smoother-eu-trips/',\n",
       " 'http://natgeotraveller.in/a-culture-ride-through-chiang-mai-and-chiang-rai/',\n",
       " 'http://natgeotraveller.in/splendour-at-sea/',\n",
       " 'http://natgeotraveller.in/in-thailand-nostalgia-on-wheels/']"
      ]
     },
     "execution_count": 231,
     "metadata": {},
     "output_type": "execute_result"
    }
   ],
   "source": [
    "posts_links= [elem.find('a')['href'] for elem in posts_elements]\n",
    "print(len(posts))\n",
    "posts_links[:5]"
   ]
  },
  {
   "cell_type": "code",
   "execution_count": 213,
   "id": "fbbd7064",
   "metadata": {},
   "outputs": [],
   "source": [
    "to_remove = ['\\xa0','***']\n",
    "subscribe_lines = ['To read more stories on travel, cities, food, nature, and adventure',\n",
    "                   'To\\xa0subscribe\\xa0to\\xa0National Geographic Traveller']\n",
    "def get_article_text(link):\n",
    "    driver.get(link)\n",
    "    soup = BeautifulSoup(driver.page_source,'html.parser').select(\".blog-cont\")[0]\n",
    "    div = BeautifulSoup(str(soup),'html.parser')\n",
    "    text = [i.text for i in div.select(\"p:not(.vital *):not(.wp-caption-text)\")]\n",
    "    for i in to_remove:\n",
    "        while True:\n",
    "            try:\n",
    "                text.remove(i)\n",
    "            except ValueError:\n",
    "                break\n",
    "    for i in subscribe_lines:\n",
    "        if(text[-1].startswith(i)):\n",
    "            del text[-1]\n",
    "            break\n",
    "    return \" \".join(text)"
   ]
  },
  {
   "cell_type": "code",
   "execution_count": 217,
   "id": "bd203ea8",
   "metadata": {},
   "outputs": [],
   "source": [
    "all_articles = [get_article_text(link) for link in posts_links]"
   ]
  },
  {
   "cell_type": "code",
   "execution_count": 218,
   "id": "28f44cd6",
   "metadata": {},
   "outputs": [
    {
     "data": {
      "text/plain": [
       "29"
      ]
     },
     "execution_count": 218,
     "metadata": {},
     "output_type": "execute_result"
    }
   ],
   "source": [
    "len(all_articles)"
   ]
  },
  {
   "cell_type": "code",
   "execution_count": null,
   "id": "766ef9ed",
   "metadata": {},
   "outputs": [],
   "source": []
  }
 ],
 "metadata": {
  "kernelspec": {
   "display_name": "Python 3 (ipykernel)",
   "language": "python",
   "name": "python3"
  },
  "language_info": {
   "codemirror_mode": {
    "name": "ipython",
    "version": 3
   },
   "file_extension": ".py",
   "mimetype": "text/x-python",
   "name": "python",
   "nbconvert_exporter": "python",
   "pygments_lexer": "ipython3",
   "version": "3.9.0"
  }
 },
 "nbformat": 4,
 "nbformat_minor": 5
}
