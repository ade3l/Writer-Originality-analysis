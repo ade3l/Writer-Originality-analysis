{
 "cells": [
  {
   "cell_type": "code",
   "execution_count": 224,
   "id": "82fa2c2c",
   "metadata": {},
   "outputs": [],
   "source": [
    "import requests\n",
    "from bs4 import BeautifulSoup\n",
    "from selenium import webdriver\n",
    "from selenium.webdriver.common.keys import Keys\n",
    "import time\n",
    "from webdriver_manager.chrome import ChromeDriverManager"
   ]
  },
  {
   "cell_type": "code",
   "execution_count": 225,
   "id": "b41fbd29",
   "metadata": {},
   "outputs": [],
   "source": [
    "url = r'https://natgeotraveller.in/author/lakshmi-sankaran/'\n",
    "driver = webdriver.Chrome(ChromeDriverManager().install())"
   ]
  },
  {
   "cell_type": "code",
   "execution_count": 226,
   "id": "5b13edd1",
   "metadata": {},
   "outputs": [],
   "source": [
    "driver.get(url) "
   ]
  },
  {
   "cell_type": "code",
   "execution_count": 229,
   "id": "b4d55ac4",
   "metadata": {},
   "outputs": [],
   "source": [
    "soup = BeautifulSoup(driver.page_source,'html.parser')\n",
    "all_posts_div = soup.find(id='articlePostByAuthor')\n",
    "posts_elements = all_posts_div.find_all(\"div\", {\"class\": \"similar-article-box\"})"
   ]
  },
  {
   "cell_type": "code",
   "execution_count": 231,
   "id": "d80066a5",
   "metadata": {},
   "outputs": [
    {
     "name": "stdout",
     "output_type": "stream",
     "text": [
      "29\n"
     ]
    },
    {
     "data": {
      "text/plain": [
       "['http://natgeotraveller.in/latest-in-travel-flights-from-pune-to-singapore-quarantine-free-travel-to-taiwan-and-more/',\n",
       " 'http://natgeotraveller.in/latest-in-travel-schengen-digital-visa-for-smoother-eu-trips/',\n",
       " 'http://natgeotraveller.in/a-culture-ride-through-chiang-mai-and-chiang-rai/',\n",
       " 'http://natgeotraveller.in/splendour-at-sea/',\n",
       " 'http://natgeotraveller.in/in-thailand-nostalgia-on-wheels/']"
      ]
     },
     "execution_count": 231,
     "metadata": {},
     "output_type": "execute_result"
    }
   ],
   "source": [
    "posts_links= [elem.find('a')['href'] for elem in posts_elements]\n",
    "print(len(posts))\n",
    "posts_links[:5]"
   ]
  },
  {
   "cell_type": "code",
   "execution_count": 213,
   "id": "fbbd7064",
   "metadata": {},
   "outputs": [],
   "source": [
    "to_remove = ['\\xa0','***']\n",
    "subscribe_lines = ['To read more stories on travel, cities, food, nature, and adventure',\n",
    "                   'To\\xa0subscribe\\xa0to\\xa0National Geographic Traveller']\n",
    "def get_article_text(link):\n",
    "    driver.get(link)\n",
    "    soup = BeautifulSoup(driver.page_source,'html.parser').select(\".blog-cont\")[0]\n",
    "    div = BeautifulSoup(str(soup),'html.parser')\n",
    "    text = [i.text for i in div.select(\"p:not(.vital *):not(.wp-caption-text)\")]\n",
    "    for i in to_remove:\n",
    "        while True:\n",
    "            try:\n",
    "                text.remove(i)\n",
    "            except ValueError:\n",
    "                break\n",
    "    for i in subscribe_lines:\n",
    "        if(text[-1].startswith(i)):\n",
    "            del text[-1]\n",
    "            break\n",
    "    return \" \".join(text)"
   ]
  },
  {
   "cell_type": "code",
   "execution_count": 217,
   "id": "bd203ea8",
   "metadata": {},
   "outputs": [],
   "source": [
    "all_articles = [get_article_text(link) for link in posts_links]"
   ]
  },
  {
   "cell_type": "code",
   "execution_count": 218,
   "id": "28f44cd6",
   "metadata": {},
   "outputs": [
    {
     "data": {
      "text/plain": [
       "29"
      ]
     },
     "execution_count": 218,
     "metadata": {},
     "output_type": "execute_result"
    }
   ],
   "source": [
    "len(all_articles)"
   ]
  },
  {
   "cell_type": "code",
   "execution_count": 234,
   "id": "7b8b87ca",
   "metadata": {},
   "outputs": [],
   "source": [
    "from sklearn.feature_extraction.text import TfidfVectorizer\n",
    "from sklearn.metrics.pairwise import cosine_similarity"
   ]
  },
  {
   "cell_type": "code",
   "execution_count": 236,
   "id": "4dedabb1",
   "metadata": {},
   "outputs": [],
   "source": [
    "vectorizer = TfidfVectorizer(binary=True)"
   ]
  },
  {
   "cell_type": "code",
   "execution_count": 237,
   "id": "a5384a8b",
   "metadata": {},
   "outputs": [
    {
     "data": {
      "text/html": [
       "<style>#sk-container-id-1 {color: black;background-color: white;}#sk-container-id-1 pre{padding: 0;}#sk-container-id-1 div.sk-toggleable {background-color: white;}#sk-container-id-1 label.sk-toggleable__label {cursor: pointer;display: block;width: 100%;margin-bottom: 0;padding: 0.3em;box-sizing: border-box;text-align: center;}#sk-container-id-1 label.sk-toggleable__label-arrow:before {content: \"▸\";float: left;margin-right: 0.25em;color: #696969;}#sk-container-id-1 label.sk-toggleable__label-arrow:hover:before {color: black;}#sk-container-id-1 div.sk-estimator:hover label.sk-toggleable__label-arrow:before {color: black;}#sk-container-id-1 div.sk-toggleable__content {max-height: 0;max-width: 0;overflow: hidden;text-align: left;background-color: #f0f8ff;}#sk-container-id-1 div.sk-toggleable__content pre {margin: 0.2em;color: black;border-radius: 0.25em;background-color: #f0f8ff;}#sk-container-id-1 input.sk-toggleable__control:checked~div.sk-toggleable__content {max-height: 200px;max-width: 100%;overflow: auto;}#sk-container-id-1 input.sk-toggleable__control:checked~label.sk-toggleable__label-arrow:before {content: \"▾\";}#sk-container-id-1 div.sk-estimator input.sk-toggleable__control:checked~label.sk-toggleable__label {background-color: #d4ebff;}#sk-container-id-1 div.sk-label input.sk-toggleable__control:checked~label.sk-toggleable__label {background-color: #d4ebff;}#sk-container-id-1 input.sk-hidden--visually {border: 0;clip: rect(1px 1px 1px 1px);clip: rect(1px, 1px, 1px, 1px);height: 1px;margin: -1px;overflow: hidden;padding: 0;position: absolute;width: 1px;}#sk-container-id-1 div.sk-estimator {font-family: monospace;background-color: #f0f8ff;border: 1px dotted black;border-radius: 0.25em;box-sizing: border-box;margin-bottom: 0.5em;}#sk-container-id-1 div.sk-estimator:hover {background-color: #d4ebff;}#sk-container-id-1 div.sk-parallel-item::after {content: \"\";width: 100%;border-bottom: 1px solid gray;flex-grow: 1;}#sk-container-id-1 div.sk-label:hover label.sk-toggleable__label {background-color: #d4ebff;}#sk-container-id-1 div.sk-serial::before {content: \"\";position: absolute;border-left: 1px solid gray;box-sizing: border-box;top: 0;bottom: 0;left: 50%;z-index: 0;}#sk-container-id-1 div.sk-serial {display: flex;flex-direction: column;align-items: center;background-color: white;padding-right: 0.2em;padding-left: 0.2em;position: relative;}#sk-container-id-1 div.sk-item {position: relative;z-index: 1;}#sk-container-id-1 div.sk-parallel {display: flex;align-items: stretch;justify-content: center;background-color: white;position: relative;}#sk-container-id-1 div.sk-item::before, #sk-container-id-1 div.sk-parallel-item::before {content: \"\";position: absolute;border-left: 1px solid gray;box-sizing: border-box;top: 0;bottom: 0;left: 50%;z-index: -1;}#sk-container-id-1 div.sk-parallel-item {display: flex;flex-direction: column;z-index: 1;position: relative;background-color: white;}#sk-container-id-1 div.sk-parallel-item:first-child::after {align-self: flex-end;width: 50%;}#sk-container-id-1 div.sk-parallel-item:last-child::after {align-self: flex-start;width: 50%;}#sk-container-id-1 div.sk-parallel-item:only-child::after {width: 0;}#sk-container-id-1 div.sk-dashed-wrapped {border: 1px dashed gray;margin: 0 0.4em 0.5em 0.4em;box-sizing: border-box;padding-bottom: 0.4em;background-color: white;}#sk-container-id-1 div.sk-label label {font-family: monospace;font-weight: bold;display: inline-block;line-height: 1.2em;}#sk-container-id-1 div.sk-label-container {text-align: center;}#sk-container-id-1 div.sk-container {/* jupyter's `normalize.less` sets `[hidden] { display: none; }` but bootstrap.min.css set `[hidden] { display: none !important; }` so we also need the `!important` here to be able to override the default hidden behavior on the sphinx rendered scikit-learn.org. See: https://github.com/scikit-learn/scikit-learn/issues/21755 */display: inline-block !important;position: relative;}#sk-container-id-1 div.sk-text-repr-fallback {display: none;}</style><div id=\"sk-container-id-1\" class=\"sk-top-container\"><div class=\"sk-text-repr-fallback\"><pre>TfidfVectorizer(binary=True)</pre><b>In a Jupyter environment, please rerun this cell to show the HTML representation or trust the notebook. <br />On GitHub, the HTML representation is unable to render, please try loading this page with nbviewer.org.</b></div><div class=\"sk-container\" hidden><div class=\"sk-item\"><div class=\"sk-estimator sk-toggleable\"><input class=\"sk-toggleable__control sk-hidden--visually\" id=\"sk-estimator-id-1\" type=\"checkbox\" checked><label for=\"sk-estimator-id-1\" class=\"sk-toggleable__label sk-toggleable__label-arrow\">TfidfVectorizer</label><div class=\"sk-toggleable__content\"><pre>TfidfVectorizer(binary=True)</pre></div></div></div></div></div>"
      ],
      "text/plain": [
       "TfidfVectorizer(binary=True)"
      ]
     },
     "execution_count": 237,
     "metadata": {},
     "output_type": "execute_result"
    }
   ],
   "source": [
    "vectorizer.fit(all_articles)"
   ]
  },
  {
   "cell_type": "code",
   "execution_count": 261,
   "id": "b7a1a445",
   "metadata": {},
   "outputs": [],
   "source": [
    "vectorize = lambda text: vectorizer.transform(text).toarray()\n",
    "similarity = lambda vec1, vec2: cosine_similarity(vec1, vec2)[0][0]"
   ]
  },
  {
   "cell_type": "code",
   "execution_count": 255,
   "id": "6f1101da",
   "metadata": {},
   "outputs": [],
   "source": [
    "vectors = [vectorize([text]) for text in all_articles]"
   ]
  },
  {
   "cell_type": "code",
   "execution_count": 290,
   "id": "3755e4bc",
   "metadata": {
    "scrolled": false
   },
   "outputs": [],
   "source": [
    "num_articles = len(all_articles)\n",
    "similarity_matrix = [[0 for i in range(num_articles)] for k in range(num_articles)]\n",
    "for i in range(num_articles):\n",
    "    for j in range(num_articles):\n",
    "#         print(\"{},{}={:.3f}\".format(i,j,similarity(vectors[i],vectors[j])))\n",
    "        similarity_matrix[i][j] = similarity(vectors[i],vectors[j])"
   ]
  },
  {
   "cell_type": "code",
   "execution_count": 294,
   "id": "d7ad95e4",
   "metadata": {},
   "outputs": [],
   "source": [
    "import matplotlib.pyplot as plt\n",
    "import numpy as np"
   ]
  },
  {
   "cell_type": "code",
   "execution_count": null,
   "id": "e4f0e9fb",
   "metadata": {},
   "outputs": [],
   "source": []
  }
 ],
 "metadata": {
  "kernelspec": {
   "display_name": "Python 3 (ipykernel)",
   "language": "python",
   "name": "python3"
  },
  "language_info": {
   "codemirror_mode": {
    "name": "ipython",
    "version": 3
   },
   "file_extension": ".py",
   "mimetype": "text/x-python",
   "name": "python",
   "nbconvert_exporter": "python",
   "pygments_lexer": "ipython3",
   "version": "3.9.0"
  }
 },
 "nbformat": 4,
 "nbformat_minor": 5
}
